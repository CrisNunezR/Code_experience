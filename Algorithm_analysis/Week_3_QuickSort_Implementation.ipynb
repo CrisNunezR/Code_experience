{
 "cells": [
  {
   "cell_type": "markdown",
   "id": "55bd1b7e",
   "metadata": {},
   "source": [
    "# Programming Asignment Week 3"
   ]
  },
  {
   "cell_type": "markdown",
   "id": "04f81f2e",
   "metadata": {},
   "source": [
    "The file \"Week_3_Exercise_QuickSort.txt\" contains all of the integers between 1 and 10,000 (inclusive, with no repeats) in unsorted order.  The integer in the i-th row of the file gives you the i-th entry of an input array.\n",
    "\n",
    "Your task is to compute the total number of comparisons used to sort the given input file by QuickSort.  As you know, the number of comparisons depends on which elements are chosen as pivots, so we'll ask you to explore three different pivoting rules.\n",
    "\n",
    "You should not count comparisons one-by-one.  Rather, when there is a recursive call on a subarray of length \n",
    "m, you should simply add (m−1) to your running total of comparisons.  (This is because the pivot element is compared to each of the other m−1 elements in the subarray in this recursive call.)\n",
    "\n",
    "WARNING: The Partition subroutine can be implemented in several different ways, and different implementations can give you differing numbers of comparisons.  For this problem, you should implement the Partition subroutine exactly as it is described in the video lectures (otherwise you might get the wrong answer).\n",
    "\n",
    "DIRECTIONS FOR THIS PROBLEM:\n",
    "\n",
    "**Case 1**: For the first part of the programming assignment, you should always use the first element of the array as the pivot element.\n",
    "\n",
    "**Case 2**: Compute the number of comparisons (as in Problem 1), always using the final element of the given array as the pivot element.  Again, be sure to implement the Partition subroutine exactly as it is described in the video lectures.\n",
    "\n",
    "Recall from the lectures that, just before the main Partition subroutine, you should exchange the pivot element (i.e., the last element) with the first element.\n",
    "\n",
    "**Case 3**: Compute the number of comparisons (as in Problem 1), using the \"median-of-three\" pivot rule.  [The primary motivation behind this rule is to do a little bit of extra work to get much better performance on input arrays that are nearly sorted or reverse sorted.]  In more detail, you should choose the pivot as follows.  Consider the first, middle, and final elements of the given array.  (If the array has odd length it should be clear what the \"middle\" element is; for an array with even length 2k, use the k-th element as the \"middle\" element. So for the array 4 5 6 7,  the \"middle\" element is the second one ---- 5 and not 6!)  Identify which of these three elements is the median (i.e., the one whose value is in between the other two), and use this as your pivot.  As discussed in the first and second parts of this programming assignment, be sure to implement Partition exactly as described in the video lectures (including exchanging the pivot element with the first element just before the main Partition subroutine)."
   ]
  },
  {
   "cell_type": "markdown",
   "id": "008a436d",
   "metadata": {},
   "source": [
    "### Solution\n",
    "\n",
    "Since we need to change the method to select the pivot several times, it's best to desing an algorithm that receives a given pivot and different sequences to defined such pivot.\n",
    "\n",
    "We'll define first a function that receives a list and a method to select a pivot and returns such pivot: "
   ]
  },
  {
   "cell_type": "code",
   "execution_count": 249,
   "id": "bbea281c",
   "metadata": {},
   "outputs": [],
   "source": [
    "# This function defines a pivot according to the a type of pivot selection\n",
    "def def_pivot(pivot_type: str, X: list)-> int:\n",
    "    \n",
    "    \"\"\"\n",
    "    Input: \n",
    "        pivot_type: one of 3 alternative pivot selections\n",
    "            first: selects the first element of the list as the pivot\n",
    "            last: selects the last element of the list as the pivot\n",
    "            median: selects median value of the list as the pivot\n",
    "        X: list with int data and length > 0\n",
    "            \n",
    "    Output: integer with the index of the pivot within the list X\n",
    "    \"\"\"\n",
    "    \n",
    "    # initialise pivot value\n",
    "    pivot = 0\n",
    "    \n",
    "    # input error controls\n",
    "    #assert len(X) != 0, \"Input array must have at least one element\"\n",
    "    assert pivot_type in (\"first\", \"last\", \"median\", \"median_of_three\"), \"Pivot type must be either 'first', 'last' or 'median'\"\n",
    "    \n",
    "    # define the pivot according to the type\n",
    "    if pivot_type == 'first':\n",
    "        pivot = 0\n",
    "    elif pivot_type == 'last':\n",
    "        pivot = len(X) - 1 # Notice that we could also use '-1' but this is clearer\n",
    "    elif pivot_type == 'median':\n",
    "        if len(X) % 2 == 0:\n",
    "            pivot = len(X) // 2 - 1\n",
    "        else:\n",
    "            pivot = len(X) // 2\n",
    "    elif pivot_type == \"median_of_three\":\n",
    "        first = def_pivot('first', X)\n",
    "        last = def_pivot('last', X)\n",
    "        median = def_pivot('median', X)\n",
    "        #print(f\"first: {first}, median: {median}, last: {last}\")\n",
    "        \n",
    "        _, pivot_sorted = quicksort(0, pivot_type='median', X=[X[first], X[last], X[median]])\n",
    "        \n",
    "        pivot_value = pivot_sorted[def_pivot(pivot_type = 'median', X = pivot_sorted)]\n",
    "        \n",
    "        if pivot_value == X[first]:\n",
    "            pivot = first\n",
    "        elif pivot_value == X[last]:\n",
    "            pivot = last\n",
    "        elif pivot_value == X[median]:\n",
    "            pivot = median\n",
    "        \n",
    "    else:\n",
    "        print(\"Please use only first/last/median as pivot type\")\n",
    "        \n",
    "    return pivot"
   ]
  },
  {
   "cell_type": "code",
   "execution_count": 250,
   "id": "0e1a37eb",
   "metadata": {},
   "outputs": [
    {
     "data": {
      "text/plain": [
       "2"
      ]
     },
     "execution_count": 250,
     "metadata": {},
     "output_type": "execute_result"
    }
   ],
   "source": [
    "def_pivot(pivot_type='median_of_three', X=[8,2,4,5,7,1])"
   ]
  },
  {
   "cell_type": "markdown",
   "id": "99c193d7",
   "metadata": {},
   "source": [
    "Now, let's code a function to define the QuickSort algorithm. \n",
    "\n",
    "Notice that, in these exercises, the pivot can be placed in different locations, not just the beginning of the list. To account for this, we'll start by swapping the pivot and the first element of the list to maintain the same algorithm structure.\n",
    "\n",
    "With this, the pseudo-code becomes:\n",
    "\n",
    "Partition(A, p, r, pivot_location):\\\n",
    "&emsp; pivot_value = A[pivot_location)\\\n",
    "&emsp; swap A[p] = A[pivot_location]\\\n",
    "&emsp; i = p + 1\\\n",
    "&emsp; for j = p + 1 to r :\\\n",
    "&emsp; &emsp; if A[j] < pivot_value:\\\n",
    "&emsp; &emsp; &emsp; swap A[j] and A[i]\\\n",
    "&emsp; &emsp; &emsp; i = i + 1\\\n",
    "&emsp; swap A[p] and A[i-1]\n",
    "\n",
    "Where 'p' is the position of the beginning of the list, and 'r' is the position of the end of the list.\n",
    "\n",
    "Since we will recursively call the algorithm with a subsection of the list, we can do away with both 'p' and 'r', and also use the **def_pivot** function to define the pivot when we receive a type of pivot."
   ]
  },
  {
   "cell_type": "code",
   "execution_count": 271,
   "id": "161628ca",
   "metadata": {},
   "outputs": [],
   "source": [
    "def quicksort(total_rec_count: int, pivot_type: str, X: list)-> (int, list):\n",
    "    \n",
    "    # end of recursion condition (base condition)\n",
    "    if len(X) <= 1:\n",
    "        return (total_rec_count, X)\n",
    "        \n",
    "    # validate pivot type\n",
    "    assert pivot_type in ['first', 'last', 'median', 'median_of_three'], \"Pivot type must be either 'first', 'last' or 'median'\"\n",
    "    \n",
    "    # define pivot and its value\n",
    "    pivot_loc = def_pivot(pivot_type = pivot_type, X = X)\n",
    "    pivot_value = X[pivot_loc]\n",
    "    \n",
    "    #print(f\"X:{X}, pivot X[{pivot_loc}]={pivot_value} rec_call: {len(X)-1}\")\n",
    "    #print(f\"rec_call: {len(X)-1}\")\n",
    "    \n",
    "    # swap the pivot with the 1st element of the array/list\n",
    "    dummy = X[0]\n",
    "    X[0] = pivot_value\n",
    "    X[pivot_loc] = dummy\n",
    "    \n",
    "    # initialise post_pivot location\n",
    "    i = 1\n",
    "    \n",
    "    # Now, we need to go through the array and switch elements around the pivot\n",
    "    for j in range(1, len(X)):\n",
    "                   \n",
    "        # swap currently checked value and element after the current pivot location\n",
    "        if X[j] < pivot_value:\n",
    "            dummy = X[i]\n",
    "            X[i] = X[j]\n",
    "            X[j] = dummy\n",
    "            i += 1\n",
    "\n",
    "    # place pivot on its orderly location\n",
    "    X[0] = X[i-1]\n",
    "    X[i-1] = pivot_value\n",
    "    \n",
    "    # recursive calls, excluding the pivot and using the same pivot type for every recursion\n",
    "    rec_comp_left, left_list = quicksort(total_rec_count, pivot_type, X[:i-1])\n",
    "    rec_comp_right, right_list = quicksort(total_rec_count, pivot_type, X[i:])\n",
    "    \n",
    "    # recursive call count\n",
    "    count_left = len(left_list)\n",
    "    count_right = len(right_list)\n",
    "    \n",
    "    X = left_list + [pivot_value] + right_list\n",
    "    total_rec_count += count_left + count_right + rec_comp_left + rec_comp_right\n",
    "    \n",
    "    return total_rec_count, X"
   ]
  },
  {
   "cell_type": "markdown",
   "id": "9aa1bb9f",
   "metadata": {},
   "source": [
    "Let's now test the code with some lists:"
   ]
  },
  {
   "cell_type": "code",
   "execution_count": 276,
   "id": "f75cec3f",
   "metadata": {},
   "outputs": [
    {
     "name": "stdout",
     "output_type": "stream",
     "text": [
      "Rec_count_first: 236\n",
      " X:[1, 2, 3, 4, 5, 6, 7, 8, 9, 10, 11, 12, 13, 14, 15, 16, 17, 18, 19, 20, 21, 22, 23, 24, 25, 26, 27, 28, 29, 30, 31, 32, 33, 34, 35, 36, 37, 38, 39, 40, 41, 42, 43, 44, 45, 46, 47, 48, 49, 50]\n",
      "\n",
      "Rec_count_median: 251\n",
      " X:[1, 2, 3, 4, 5, 6, 7, 8, 9, 10, 11, 12, 13, 14, 15, 16, 17, 18, 19, 20, 21, 22, 23, 24, 25, 26, 27, 28, 29, 30, 31, 32, 33, 34, 35, 36, 37, 38, 39, 40, 41, 42, 43, 44, 45, 46, 47, 48, 49, 50]\n",
      "\n",
      "Rec_count_last: 260\n",
      " X:[1, 2, 3, 4, 5, 6, 7, 8, 9, 10, 11, 12, 13, 14, 15, 16, 17, 18, 19, 20, 21, 22, 23, 24, 25, 26, 27, 28, 29, 30, 31, 32, 33, 34, 35, 36, 37, 38, 39, 40, 41, 42, 43, 44, 45, 46, 47, 48, 49, 50]\n",
      "\n"
     ]
    }
   ],
   "source": [
    "List = [34, 17, 25, 3, 42, 9, 15, 28, 37, 11, 5, 21, 48, 30, 14, 26, 19, 7, 41, 20, 45, 1, 38, 22, 29, 6, 35, 50, 8, 23, 2, 40, 16, 47, 32, 4, 46, 27, 44, 10, 36, 18, 33, 24, 12, 39, 31, 13, 49, 43]\n",
    "#List = [9, 2, 7, 3, 5, 1, 6, 10, 4, 8]\n",
    "\n",
    "\n",
    "# test with pivot at fist position\n",
    "pivot_type = 'first'\n",
    "X = List.copy()\n",
    "rec_call, X_ord = quicksort(0, pivot_type, X)\n",
    "print(f\"Rec_count_first: {rec_call}\\n X:{X_ord}\\n\")\n",
    "\n",
    "# test with pivot at median position\n",
    "pivot_type = 'median'\n",
    "Y = List.copy()\n",
    "rec_call, X_ord = quicksort(0, pivot_type, Y)\n",
    "print(f\"Rec_count_median: {rec_call}\\n X:{X_ord}\\n\")\n",
    "\n",
    "# test with pivot at last position\n",
    "pivot_type = 'last'\n",
    "Z = List.copy()\n",
    "rec_call, X_ord = quicksort(0, pivot_type, Z)\n",
    "print(f\"Rec_count_last: {rec_call}\\n X:{X_ord}\\n\")"
   ]
  },
  {
   "cell_type": "markdown",
   "id": "f94f8a41",
   "metadata": {},
   "source": [
    "Let's now load the values in the \"Week_3_Exercise_QuickSort.txt\" file and evaluate the different number of comparisons:"
   ]
  },
  {
   "cell_type": "code",
   "execution_count": 273,
   "id": "4a97e866",
   "metadata": {},
   "outputs": [],
   "source": [
    "def read_integers_from_file(file_path):\n",
    "    try:\n",
    "        with open(file_path, 'r') as file:\n",
    "            integers_list = [int(line.strip()) for line in file]\n",
    "        return integers_list\n",
    "    except FileNotFoundError:\n",
    "        print(f\"File not found: {file_path}\")\n",
    "        return None\n",
    "    except Exception as e:\n",
    "        print(f\"Error reading file: {e}\")\n",
    "        return None"
   ]
  },
  {
   "cell_type": "code",
   "execution_count": 274,
   "id": "1d3d9f25",
   "metadata": {},
   "outputs": [],
   "source": [
    "# Example usage:\n",
    "file_path = 'Week_3_Exercise_QuickSort.txt'  # Replace with the path to your file\n",
    "list_exercise = read_integers_from_file(file_path)"
   ]
  },
  {
   "cell_type": "code",
   "execution_count": 275,
   "id": "013b229c",
   "metadata": {},
   "outputs": [
    {
     "name": "stdout",
     "output_type": "stream",
     "text": [
      "Rec_count_first: 162085\n",
      "Rec_count_median_of_three: 138382\n",
      "Rec_count_last: 164123\n"
     ]
    },
    {
     "data": {
      "text/plain": [
       "'\\nNotice that, since QuickSort changes \\n'"
      ]
     },
     "execution_count": 275,
     "metadata": {},
     "output_type": "execute_result"
    }
   ],
   "source": [
    "# Let's review the results and test with pivot at fist position\n",
    "\n",
    "pivot_type = 'first'\n",
    "X = list_exercise.copy()\n",
    "rec_call, X_ord = quicksort(0, pivot_type, X)\n",
    "print(f\"Rec_count_first: {rec_call}\")\n",
    "\n",
    "# test with pivot at median position\n",
    "pivot_type = 'median_of_three'\n",
    "Y = list_exercise.copy()\n",
    "rec_call, X_ord = quicksort(0, pivot_type, Y)\n",
    "print(f\"Rec_count_median_of_three: {rec_call}\")\n",
    "\n",
    "# test with pivot at last position\n",
    "pivot_type = 'last'\n",
    "Z = list_exercise.copy()\n",
    "rec_call, X_ord = quicksort(0, pivot_type, Z)\n",
    "print(f\"Rec_count_last: {rec_call}\")\n",
    "\n",
    "\"\"\"\n",
    "    Notice that, since QuickSort modifies the input list in place, \n",
    "    we need to make a copy before  sorting.\n",
    "\"\"\"\n"
   ]
  }
 ],
 "metadata": {
  "kernelspec": {
   "display_name": "Python 3 (ipykernel)",
   "language": "python",
   "name": "python3"
  },
  "language_info": {
   "codemirror_mode": {
    "name": "ipython",
    "version": 3
   },
   "file_extension": ".py",
   "mimetype": "text/x-python",
   "name": "python",
   "nbconvert_exporter": "python",
   "pygments_lexer": "ipython3",
   "version": "3.9.7"
  }
 },
 "nbformat": 4,
 "nbformat_minor": 5
}
