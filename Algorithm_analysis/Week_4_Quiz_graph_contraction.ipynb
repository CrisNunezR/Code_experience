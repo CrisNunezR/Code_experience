{
 "cells": [
  {
   "cell_type": "markdown",
   "id": "42fbeb33",
   "metadata": {},
   "source": [
    "# Quiz Week 4"
   ]
  },
  {
   "cell_type": "markdown",
   "id": "affa2193",
   "metadata": {},
   "source": [
    "**1) How many different minimum cuts are there in a tree with n nodes (i.e. n-1 edges)?**\n",
    "\n",
    "-  ${n \\choose 2}$\n",
    "-  **n-1**\n",
    "-  n\n",
    "-  $n^2 - 2$"
   ]
  },
  {
   "cell_type": "markdown",
   "id": "66ed6da7",
   "metadata": {},
   "source": [
    "To solve this question it's important to first remember that a **_Tree_** with n nodes (or vertices), is an acyclic (has no cycles) and connected (there's a path between every pair of nodes) graph.\n",
    "\n",
    "In detail, the characteristics of tree-graphs are:\n",
    "- Connectivity: Every pair of nodes is connected by **exactly one path**, so there are no isolated nodes nor more than one way to '*travel*' from one node to any another.\n",
    "- Edges: a tree with n nodes has **exactly (n-1) edges**.\n",
    "- Acyclic: the tree contains **no cycles**, that is, there is no way to start from one node and return to the same node following the edges in the tree (for any node).\n",
    "- Undirected: typically, trees are considered to be undirected graphs.\n",
    "\n",
    "#### Solution\n",
    "\n",
    "An intuitive way to solve this problem is to see that we basically have 2 shapes of trees (or 3 if we consider the mix of the two as a third type):\n",
    "\n",
    "<img src=\"Week_4_tree_1.png\"> <img src=\"Week_4_tree_2.png\">\n",
    "\n",
    "For the first case, it's easy to see that we can have a cut with 1 node and another with (n-1) nodes, we can repeat the same process with 2 nodes and (n-2) nodes, and so on until we have (n-1) and 1 node, forming \"n-1\" cuts. Given the properties of the trees, all these cuts will have just 1 edge connecting the 2 section of the cut. \n",
    "\n",
    "Similarly, for the second case, we can have a cut with node 1 from the vertical section and all the other (n-1) nodes grouped together. We can repeat the process for all the nodes on the vertical section, forming \"n-1\" cuts. Notice that any node not including the vertex/node \"0\" will have more than one edge conneting the two sections of the cut (so it won't be a minimum cut). \n",
    "\n",
    "Consequently, the answer to this question is **(n-1)**.\n",
    "\n",
    "To prove this in a more \"*formal way*\" we need to use mathematical induction. \n",
    "\n",
    "**Claim: All trees with n nodes have (n-1) minimum cuts**\n",
    "\n",
    "- Base case (n=1): We assume the claim to be true for n=1. A tree with just one node has no edges, so we have indeed (1-1) = 0.\n",
    "\n",
    "- Case n = k: we assume the claim to be true for n=k, that is, a tree with k nodes has (k-1) minimum cuts.\n",
    "\n",
    "- Case n = k + 1. We need to prove that a tree with (k+1) nodes has k minimum cuts. We can separate this tree into 2 sections, one with k nodes and another with 1 node. We know from the case n=k and by induction that the first section has (k-1) minimum cuts, and we know that the section with 1 node is connected to the section with k nodes by one edge (since the graph is a tree). This means that the last node represents an additional minimun cut (since removing its edge disconnects the two sections). So, for the whole tree with n=k+1, we have **(k-1)+1=k minimum cuts**, which is the claim we are trying to validate."
   ]
  },
  {
   "cell_type": "markdown",
   "id": "f52d994d",
   "metadata": {},
   "source": [
    "**2) Let \"output\" denote the cut output by Karger's min cut algorithm on a given connected graph with *n* vertices, and let $ p = \\frac{1}{n \\choose 2}$. Which of the following statements are true:**\n",
    "\n",
    "- **For every graph G with *n* nodes, there exists a min cut (A, B) of G such that $P[out = (A, B)] >= p$**\n",
    "- For every graph G with *n* nodes, there exists a min cut (A, B) of G such that $P[out = (A, B)] <= p$\n",
    "- For every graph G with *n* nodes and every min cut (A, B), $P[out = (A, B)] <= p$\n",
    "- **There exists a graph G with *n* nodes and a min cut (A, B) of G such that $P[out = (A, B)] <= p$**\n",
    "- **For every graph G with *n* nodes and every min cut (A, B), $P[out = (A, B)] => p$**"
   ]
  },
  {
   "cell_type": "markdown",
   "id": "b2c80640",
   "metadata": {},
   "source": [
    "#### Solution\n",
    "Notice that, since we have *n* nodes/vertices, we know that we can have **at most ${n \\choose 2}$ min cuts**. With this, we clearly have that $ p = \\frac{1}{n \\choose 2}$ is the minimum probability of randomly selecting any one of those min cuts.\n",
    "\n",
    "With this in mind, it's easy to see that:\n",
    "\n",
    "**TRUE:** For every graph G with *n* nodes, there exists a min cut (A, B) of G such that $P[out = (A, B)] >= p$. **Since the probability of randomly selecting any min cut (in this case (A, B)) is at least p (and exacly p if we have the maximum min cuts possible, which are ${n \\choose 2}$.**\n",
    "\n",
    "\n",
    "**FALSE:** For every graph G with *n* nodes, there exists a min cut (A, B) of G such that $P[out = (A, B)] <= p$. **With the same argument as the previous statement, we know that the probability of choosing any min cut is at least p, so we cannot have $P[out = (A, B)] < p$**\n",
    "\n",
    "**FALSE:** For every graph G with *n* nodes and every min cut (A, B), $P[out = (A, B)] <= p$. **Same as the previous statement, we cannot have a probability of selecting any min cut lower than p since we have 'at most' ${n \\choose 2}$ min cuts. If we have fewer min cuts, then the probability can only be higher, not lower.**\n",
    "\n",
    "\n",
    "**TRUE:** There exists a graph G with *n* nodes and a min cut (A, B) of G such that $P[out = (A, B)] <= p$ **We know that P[out = (A, B)] is at least p, and equal to p when we have the most number of min cuts. So the statement is true then the number of min cuts = ${n \\choose 2}$ and P[out = (A, B)] = p. (notice that P[out = (A, B)] < p will always be false, though).**\n",
    "\n",
    "\n",
    "**TRUE:** For every graph G with *n* nodes and every min cut (A, B), $P[out = (A, B)] => p$. **We saw in the 1st statement that we can have at most ${n \\choose 2}$ min cuts, so the probability of every min cut must be at least p**"
   ]
  },
  {
   "cell_type": "markdown",
   "id": "b4cee659",
   "metadata": {},
   "source": [
    "**3) Let 0.5 < $\\alpha$ < 1 be some constant. Suppose you are looking for the median element in an array using RANDOMIZED SELECT (as explained in lectures). What is the probability that after the first iteration the size of the subarray in which the element you are looking for lies is <= $\\alpha$ times the size of the original array?**\n",
    "\n",
    "- $\\alpha - \\frac{1}{2}$\n",
    "- $1 - \\alpha$\n",
    "- **$2\\alpha - 1$**\n",
    "- $1 - \\frac{\\alpha}{2}$"
   ]
  },
  {
   "cell_type": "markdown",
   "id": "507daa4a",
   "metadata": {},
   "source": [
    "#### Solution\n",
    "\n",
    "The first important thing to notice about this problem is that we are looking for the '**_median_**', that is, the element that (roughly) divides the array into 2 sections with equal size. \n",
    "\n",
    "Let's look at the extreme values for $0.5 < \\alpha < 1$. If $\\alpha=1$, then the probability of the subarray where the median lies being smaller than $\\alpha n$ is clearly 1, since $\\alpha*n$ is the size of the whole array for $\\alpha=1$. On the other hand, for $\\alpha=0.5$, we know that the probability of the median being in the section $[1, 0.5n[$ is zero, since the median, by definitio, parts the array in half, so it will be placed at 0.5n in an ordered array. The only available alternative that fulfills both conditions is $(2\\alpha - 1)$.\n",
    "\n",
    "Since $0.5 < \\alpha < 1$, the statement \"What is the probability that after the first iteration the size of the subarray in which the element you are looking for lies is <= $\\alpha$ times the size of the original array\" is in fact asking what's the probability of the pivot being in the range $[ 1 - \\alpha , \\alpha]$.\n",
    "\n",
    "<img src=\"Week_4_quiz_q3.png\">\n",
    "\n",
    "As we can see from the image above, there are **two ways** in which the location of the pivot defines a partition that includes the median and has a size $<= \\alpha$ (both marked in red in the figure). The obvious one is when the pivot is located between the median (0.5n) and $\\alpha n$, which defines a partition '*to the left* with size at most $\\alpha$ that contains the median. The other option is when the piviot is located between $(1-\\alpha)$ and the median; here, the median will be located '*to the right*' of the pivot in a partition also sized at most $\\alpha$. \n",
    "\n",
    "To makr this clearer, we can see that $(1-\\alpha)$ is clearly defined as the lowest bound for the pivot since we calculate it by substracting from $\\alpha n$ the two sections sized $(\\alpha - 0.5)n$: \n",
    "\n",
    "$$(1 - \\alpha)n = \\alpha n - 2(\\alpha - 0.5)n $$ \n",
    "\n",
    "Also, we can see that the partition between $(1 - \\alpha)n$ and n is sized $\\alpha$ since, given that the section between $\\alpha n $ and n is sized $(1 - \\alpha)n$, we have: \n",
    "\n",
    "$$ (1- \\alpha)n + 2(\\alpha - 0.5)n = n - \\alpha n + 2\\alpha n - n = \\alpha n $$\n",
    "\n",
    "With this, we can clearly see that the sought after probability can be defined as the probability of the pivot for the first partitio is within the range $[(1-\\alpha), \\alpha]$, which is:\n",
    "\n",
    "$$ P[ (1-\\alpha)n <= pivot <= \\alpha n ] = P[p <= \\alpha n] - P[p <= (1-\\alpha)n] = \\alpha - (1 - \\alpha) = 2\\alpha - 1$$"
   ]
  },
  {
   "cell_type": "markdown",
   "id": "b291822e",
   "metadata": {},
   "source": [
    "**4) Let $0 < \\alpha < 1$ be a constant, independent of n. Consider an execution of RSelect in which you always manage to throw out at least a $(1 - \\alpha)$ fraction of the remaining elements before you recurse.  What is the maximum number of recursive calls you'll make before terminating?**\n",
    "\n",
    "- $ -\\frac{log(n)}{log(1-\\alpha)}$\n",
    "- $ -\\frac{log(n)}{log(\\alpha)}$\n",
    "- $ -\\frac{log(n)}{\\alpha}$\n",
    "- $ -\\frac{log(n)}{log(\\frac{1}{2} + \\alpha)}$"
   ]
  },
  {
   "cell_type": "markdown",
   "id": "2291022f",
   "metadata": {},
   "source": [
    "In trees analysis we learnt that an array with 'n' elements can be divided into single elements by consecutely partitioning the array into smaller sections (by a 'shrinking factor', which is the amount by which the array is divided at every iteration). The following image shows a partition with a 'shrinking factor' of 2: \n",
    "\n",
    "<img src=\"recursive_tree.png\">\n",
    "\n",
    "We know that the max levels we can obtain by partitioning an array with 'n' elements this way is $log_k(n)$ (in the image above, k=2, thus $max\\_levels = log_2(n)$).\n",
    "\n",
    "With this, it's easy to see that, by eliminating a $(1-\\alpha)$ fraction of the array with every partition, we have a $shrinking\\ factor = \\frac{1}{\\alpha}$ and the max number of levels will be $log_{\\frac{1}{\\alpha}}(n) = \\frac{log(n)}{log(\\frac{1}{\\alpha})} = - \\frac{log(n)}{log(\\alpha)}$, or **choice 2**."
   ]
  },
  {
   "cell_type": "markdown",
   "id": "0e135f56",
   "metadata": {},
   "source": [
    "**5) The minimum s-t cut problem is the following.  The input is an undirected graph, and two distinct vertices of the graph are labelled \"s\" and \"t\".  The goal is to compute the minimum cut (i.e., fewest number of crossing edges) that satisfies the property that s and t are on different sides of the cut.**\n",
    "\n",
    "**Suppose someone gives you a subroutine for this s-t minimum cut problem via an API.  Your job is to solve the original minimum cut problem (the one discussed in the lectures), when all you can do is invoke the given min s-t cut subroutine.  (That is, the goal is to reduce the min cut problem to the min s-t cut problem).**\n",
    "\n",
    "**Now suppose you are given an instance of the minimum cut problem -- that is, you are given an undirected graph (with no specially labelled vertices) and need to compute the minimum cut.  What is the minimum number of times that you need to call the given min s-t cut subroutine to guarantee that you'll find a min cut of the given graph?**\n",
    "- $2^n$\n",
    "- ${n \\choose 2}$\n",
    "- $n-1$\n",
    "- n"
   ]
  },
  {
   "cell_type": "markdown",
   "id": "7807f857",
   "metadata": {},
   "source": [
    "#### Solution\n",
    "\n",
    "To solve the min_cut problem using the s-t min_cut subroutine, we select any arbitrary vertex 's', then we itarate over all other (n-1) vertices in the graph, labelling each 't' one at a time. We then call the \"s-t minimum cut\" routine for each pair 's' and 't', which returns a cut where 's' and 't' are in separate sections, and keep track of the minimum cut found amongst all pairs of 's' and 't'.\n",
    "\n",
    "As we stated in the previous paragraph, for any chosen 's', we have (n-1) options for 't' to cover all possible pairs thus covering all possible cuts for the graph), so **we need (n-1) calls to the s-t subroutine to guarantee we find the min_cut for the whole graph**.\n",
    "\n",
    "\n"
   ]
  }
 ],
 "metadata": {
  "kernelspec": {
   "display_name": "Python 3 (ipykernel)",
   "language": "python",
   "name": "python3"
  },
  "language_info": {
   "codemirror_mode": {
    "name": "ipython",
    "version": 3
   },
   "file_extension": ".py",
   "mimetype": "text/x-python",
   "name": "python",
   "nbconvert_exporter": "python",
   "pygments_lexer": "ipython3",
   "version": "3.9.7"
  }
 },
 "nbformat": 4,
 "nbformat_minor": 5
}
