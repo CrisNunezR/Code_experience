{
 "cells": [
  {
   "cell_type": "markdown",
   "id": "a6739d10",
   "metadata": {},
   "source": [
    "# Week 2 - counting inversions"
   ]
  },
  {
   "cell_type": "markdown",
   "id": "f370b300",
   "metadata": {},
   "source": [
    "### Instructions\n",
    "\n",
    "This file contains all of the 100,000 integers between 1 and 100,000 (inclusive) in some order, with no integer repeated.\n",
    "\n",
    " Your task is to compute the number of inversions in the file given, where the i-th row of the file indicates the i-th entry of an array.\n",
    "\n",
    "Because of the large size of this array, you should implement the fast divide-and-conquer algorithm covered in the video lectures.\n",
    "\n",
    "The numeric answer for the given input file should be typed in the space below.\n",
    "\n",
    "So if your answer is 1198233847, then just type 1198233847 in the space provided without any space / commas / any other punctuation marks. You can make up to 5 attempts, and we'll use the best one for grading.\n",
    "\n",
    "(We do not require you to submit your code, so feel free to use any programming language you want --- just type the final numeric answer in the following space.)\n",
    "\n",
    "[TIP: before submitting, first test the correctness of your program on some small test files or your own devising.  Then post your best test cases to the discussion forums to help your fellow students!]"
   ]
  },
  {
   "cell_type": "markdown",
   "id": "6825789b",
   "metadata": {},
   "source": [
    "### Analysis\n",
    "\n",
    "Remember that the 'brute force' approach has a $\\Theta(n^2)$ time-complexity but, we can use a sort-and-count approach to achieve a $\\Theta(nlogn)$ time complexity.\n",
    "\n",
    "The algorithm will have the following structure:\n",
    "\n",
    " &emsp;1) Divide the complete list into 2 halves: left and right\\\n",
    " &emsp;2) Order the  left half and count every time numbers are re-ordered (as this is an inversion)\\\n",
    " &emsp;3) Order the  right half and count every time numbers are re-ordered (as this is too an inversion)\\\n",
    " &emsp;4) Count the inversions between numbers in the left and right (by now sorted) sections of the list. We do this by creating a final list that takes numbers in order from the left or right section. Every time we take an element from the right section, we know there's an inversion, since the left section was the 1st in the whole list.\n",
    "\n",
    "Recall that ordering a list has a time-complexity $\\Theta(nlogn)$, where 'n' is the length of the list. Taking elements from either of the lists after ordering them, on the other hand, has a time-complexity of $\\Theta(n)$, so the overall complaxity of the algorithm will be $\\Theta(nlogn)$\n",
    "\n",
    "Another concept to remember is that an inversion is a pair of indices (i,j) in a list A, where i<j and A[i]>A[j]. So, for example, list A=[1,3,5,2,4,6] has 3 inversions [3,2] (since i=1, j=3, so i<j, but A[1]=3 > A[3]=2), [5,2], and [5,4].\n"
   ]
  },
  {
   "cell_type": "markdown",
   "id": "47632810",
   "metadata": {},
   "source": [
    "First, let's create a merge-sort recursive function that takes in a list with 'n' elements and returns them in an ordered list (time-complexity $\\Theta(nlogn)$) plus the number of inversions in the list:"
   ]
  },
  {
   "cell_type": "code",
   "execution_count": 147,
   "id": "e82b1a94",
   "metadata": {},
   "outputs": [],
   "source": [
    "def order_list(total_inv_cntr: list, X: list)-> (int, list):\n",
    "    \n",
    "    # initialising values\n",
    "    X_ord = []\n",
    "    l = len(X)\n",
    "    left_inv_cntr, right_inv_cntr, merge_inv_count = 0, 0 , 0\n",
    "    \n",
    "    # recursive calls\n",
    "    if l > 1:\n",
    "        if l == 2 and X[0] > X[1]:\n",
    "            # base case with 2 elements\n",
    "            X_ord = [X[1], X[0]]\n",
    "            total_inv_cntr += 1\n",
    "        else:\n",
    "            left_inv_cntr, left_list = order_list(total_inv_cntr, X[: l // 2])\n",
    "            right_inv_cntr, right_list = order_list(total_inv_cntr, X[l // 2:])\n",
    "            merge_inv_count, X_ord = merge_ordered_lists(left_list, right_list)    \n",
    "    else:\n",
    "        # base case, with only 1 element\n",
    "        X_ord = X\n",
    "                \n",
    "    total_inv_cntr += left_inv_cntr + right_inv_cntr + merge_inv_count\n",
    "\n",
    "    return total_inv_cntr, X_ord"
   ]
  },
  {
   "cell_type": "markdown",
   "id": "434c0254",
   "metadata": {},
   "source": [
    "Notice that in the function above we assumed we had a function that could receive 2 ordered lists and return a unified marged list plus the number of inversions between the 2 lists. \n",
    "\n",
    "Here we create that function to merge the 2 lists and return the number if inversions found (time-complexity $\\Theta(n)$):"
   ]
  },
  {
   "cell_type": "code",
   "execution_count": 142,
   "id": "1eeb52f7",
   "metadata": {},
   "outputs": [],
   "source": [
    "def merge_ordered_lists(X: list, Y: list) -> (int, list):\n",
    "\n",
    "    \"\"\" Constant section \"\"\"\n",
    "    #initialising values\n",
    "    Output_list = []\n",
    "    n = len(X)  + len(Y)\n",
    "    i, j, inv_cntr = 0, 0, 0\n",
    "\n",
    "    \"\"\" Loop section \"\"\"\n",
    "    # this section populates the output list from lists X and Y maintaining an increasing order\n",
    "    # Notice that this merging algorithm does away with repeated values\n",
    "    # To count inversions, we increase the counter every time we take a value from the Y list (before list X is finished)\n",
    "    for k in range(n):\n",
    "        if i < len(X) and j < len(Y):\n",
    "\n",
    "            if X[i] <= Y[j]:\n",
    "                Output_list.append(X[i])\n",
    "                if X[i] == Y[j]:\n",
    "                    j += 1\n",
    "                    i += 1\n",
    "                else:\n",
    "                    i += 1\n",
    "            elif X[i] > Y[j]:\n",
    "                Output_list.append(Y[j])\n",
    "                j += 1\n",
    "                inv_cntr += len(X) - i # notice that, by taking the difference we only increment the counter when there are values remaining\n",
    "                #print(Output_list)\n",
    "        elif j < len(Y):\n",
    "            Output_list.append(Y[j])\n",
    "            j += 1\n",
    "        elif i < len(X):\n",
    "            Output_list.append(X[i])\n",
    "            i += 1\n",
    "            inv_cntr += len(Y) - j # Notice that taking any value from X once Y is over, is an inversion\n",
    "            #print(Output_list)\n",
    "\n",
    "    return inv_cntr, Output_list"
   ]
  },
  {
   "cell_type": "markdown",
   "id": "045ecc8f",
   "metadata": {},
   "source": [
    "Now, we need a set of lists to test the functions:"
   ]
  },
  {
   "cell_type": "code",
   "execution_count": 157,
   "id": "daeff3d3",
   "metadata": {},
   "outputs": [
    {
     "name": "stdout",
     "output_type": "stream",
     "text": [
      "Number of inversions:0\n",
      "Ordered list: [0, 1, 2, 3, 4, 5]\n",
      "\n",
      "Number of inversions:10\n",
      "Ordered list: [1, 2, 3, 4, 5]\n",
      "\n",
      "Number of inversions:4\n",
      "Ordered list: [1, 2, 3, 4, 5]\n",
      "\n",
      "Number of inversions:14\n",
      "Ordered list: [1, 2, 3, 4, 5, 6, 7, 8, 9, 10, 11, 12, 13, 14, 15, 16, 17, 18, 19, 20]\n",
      "\n",
      "Number of inversions:18\n",
      "Ordered list: [1, 2, 3, 4, 5, 6, 7, 8, 9, 10, 11, 12, 13, 14, 15, 16, 17, 18, 19, 20]\n",
      "\n"
     ]
    }
   ],
   "source": [
    "A = [0,1,2,3,4,5] # notice that this lists should return 0 inversions\n",
    "nbr_inversions, ord_list = order_list(0, A)\n",
    "\n",
    "print(f\"Number of inversions:{nbr_inversions}\\nOrdered list: {ord_list}\\n\")\n",
    "\n",
    "\n",
    "A = [5, 4, 3, 2, 1] # this list should return 10 inversions\n",
    "nbr_inversions, ord_list = order_list(0, A)\n",
    "\n",
    "print(f\"Number of inversions:{nbr_inversions}\\nOrdered list: {ord_list}\\n\")\n",
    "\n",
    "A=[1, 5, 3, 2, 4] # this list should return 4 inversions\n",
    "nbr_inversions, ord_list = order_list(0, A)\n",
    "\n",
    "print(f\"Number of inversions:{nbr_inversions}\\nOrdered list: {ord_list}\\n\")\n",
    "\n",
    "A=[2, 4, 1, 6, 3, 8, 5, 10, 7, 9, 12, 11, 14, 15, 13, 17, 16, 19, 18, 20] # this list should return 14 inversions\n",
    "nbr_inversions, ord_list = order_list(0, A)\n",
    "\n",
    "print(f\"Number of inversions:{nbr_inversions}\\nOrdered list: {ord_list}\\n\")\n",
    "\n",
    "A = [5, 3, 2, 4, 1, 8, 7, 10, 6, 9, 12, 11, 14, 15, 13, 17, 16, 19, 18, 20] # there are 18 inversions in this list\n",
    "nbr_inversions, ord_list = order_list(0, A)\n",
    "\n",
    "print(f\"Number of inversions:{nbr_inversions}\\nOrdered list: {ord_list}\\n\")\n",
    "\n"
   ]
  },
  {
   "cell_type": "markdown",
   "id": "4f91bfd2",
   "metadata": {},
   "source": [
    "Let's now create a function to read from the text file into a list: "
   ]
  },
  {
   "cell_type": "code",
   "execution_count": 159,
   "id": "b3d8346d",
   "metadata": {},
   "outputs": [],
   "source": [
    "def read_integers_from_file(file_path):\n",
    "    try:\n",
    "        with open(file_path, 'r') as file:\n",
    "            integers_list = [int(line.strip()) for line in file]\n",
    "        return integers_list\n",
    "    except FileNotFoundError:\n",
    "        print(f\"File not found: {file_path}\")\n",
    "        return None\n",
    "    except Exception as e:\n",
    "        print(f\"Error reading file: {e}\")\n",
    "        return None\n"
   ]
  },
  {
   "cell_type": "code",
   "execution_count": 162,
   "id": "7a7bdbfb",
   "metadata": {},
   "outputs": [],
   "source": [
    "# Example usage:\n",
    "file_path = 'Week_2_IntegerArray.txt'  # Replace with the path to your file\n",
    "list_exercise = read_integers_from_file(file_path)\n",
    "\n",
    "#if list_exercise is not None:\n",
    "#    print(f\"Integers from file: {list_exercise}\")"
   ]
  },
  {
   "cell_type": "markdown",
   "id": "04ae3268",
   "metadata": {},
   "source": [
    "Finally, let's test the code!!"
   ]
  },
  {
   "cell_type": "code",
   "execution_count": 164,
   "id": "312fd2a8",
   "metadata": {},
   "outputs": [
    {
     "name": "stdout",
     "output_type": "stream",
     "text": [
      "Number of inversions:2407905288\n"
     ]
    }
   ],
   "source": [
    "nbr_inv, ord_list = order_list(0, list_exercise)\n",
    "print(f\"Number of inversions:{nbr_inv}\")"
   ]
  }
 ],
 "metadata": {
  "kernelspec": {
   "display_name": "Python 3 (ipykernel)",
   "language": "python",
   "name": "python3"
  },
  "language_info": {
   "codemirror_mode": {
    "name": "ipython",
    "version": 3
   },
   "file_extension": ".py",
   "mimetype": "text/x-python",
   "name": "python",
   "nbconvert_exporter": "python",
   "pygments_lexer": "ipython3",
   "version": "3.9.7"
  }
 },
 "nbformat": 4,
 "nbformat_minor": 5
}
