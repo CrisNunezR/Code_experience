{
 "cells": [
  {
   "cell_type": "markdown",
   "id": "7f77f335",
   "metadata": {},
   "source": [
    "# Python Exercises"
   ]
  },
  {
   "cell_type": "markdown",
   "id": "a917f8f7",
   "metadata": {},
   "source": [
    "This file contains Python exercises for classical Computer Science problems as a means to train in the language"
   ]
  },
  {
   "cell_type": "markdown",
   "id": "efb5ac46",
   "metadata": {},
   "source": [
    "**1) Fibonacci sequence**: remember that this sequence represents the sum of the previous 2 elements, beginning with elements 1, 1. In this sence, fib(3) = 1, 1, 2, 3."
   ]
  },
  {
   "cell_type": "code",
   "execution_count": 1,
   "id": "3800759b",
   "metadata": {},
   "outputs": [],
   "source": [
    "def fib(n: int) -> list:\n",
    "    \"\"\"\n",
    "    Arguments \n",
    "        n: integer value up to which calculate the sequence\n",
    "    Output:\n",
    "        l: list with the fibonacci sequence\n",
    "    \"\"\"\n",
    "    \n",
    "    l=[]\n",
    "    for i in range(n):\n",
    "        if i < 3:\n",
    "            l.append(1) if i == 0 else l.append(i)\n",
    "        else:\n",
    "            l.append(l[i-1] + l[i-2])\n",
    "    return l\n"
   ]
  },
  {
   "cell_type": "code",
   "execution_count": 2,
   "id": "6bbbcd5d",
   "metadata": {},
   "outputs": [
    {
     "name": "stdout",
     "output_type": "stream",
     "text": [
      "Fibinacci sequence up to value 15: [1, 1, 2, 3, 5, 8, 13, 21, 34, 55, 89, 144, 233, 377, 610].\n"
     ]
    }
   ],
   "source": [
    "n = 15\n",
    "print(\"Fibinacci sequence up to value {}: {}.\".format(n, fib(n)))"
   ]
  },
  {
   "cell_type": "markdown",
   "id": "68d621c0",
   "metadata": {},
   "source": [
    "**2) Calculating Pi**: there are many methods to approximate $\\pi$, here I'll use the Leibniz formula."
   ]
  },
  {
   "cell_type": "code",
   "execution_count": 3,
   "id": "a0ca3d7f",
   "metadata": {},
   "outputs": [],
   "source": [
    "def pi_calc(n: int) -> float:\n",
    "    \"\"\"\n",
    "    Arguments\n",
    "        n: number of elements in the sequence\n",
    "    Returns\n",
    "        pi: approximation for pi\n",
    "    \"\"\"\n",
    "    \n",
    "    # initialises values\n",
    "    pi = 0.\n",
    "    sign = -1\n",
    "    \n",
    "    # calculates pi\n",
    "    for i in range(n):\n",
    "        if i%2 != 0:\n",
    "            sign = -1 if sign == 1 else 1\n",
    "            pi += 1/i * sign\n",
    "    pi = 4*pi\n",
    "    \n",
    "    return pi"
   ]
  },
  {
   "cell_type": "code",
   "execution_count": 4,
   "id": "eee2928d",
   "metadata": {},
   "outputs": [
    {
     "data": {
      "text/plain": [
       "3.141590653589692"
      ]
     },
     "execution_count": 4,
     "metadata": {},
     "output_type": "execute_result"
    }
   ],
   "source": [
    "# calculates pi\n",
    "pi_calc(1000000)"
   ]
  },
  {
   "cell_type": "markdown",
   "id": "83c44113",
   "metadata": {},
   "source": [
    "**3) Hanoi towers**: move discs, one at a time, from one tower to another without ever placing a larger disc on top of a smaller one"
   ]
  },
  {
   "cell_type": "markdown",
   "id": "f027ea2b",
   "metadata": {},
   "source": [
    "<img src=\"images/hanoi.jpg\" style=\"width:200px;height:150px;\">"
   ]
  },
  {
   "cell_type": "code",
   "execution_count": 5,
   "id": "e81c7995",
   "metadata": {
    "scrolled": true
   },
   "outputs": [
    {
     "name": "stdout",
     "output_type": "stream",
     "text": [
      "Towers before executing alorithm\n",
      "tower_a: Tower([1, 2, 3, 4, 5, 6, 7, 8, 9, 10])\n",
      "tower_b: Tower([])\n",
      "tower_c: Tower([])\n",
      "\n",
      "Towers after executing alorithm\n",
      "tower_a: Tower([])\n",
      "tower_b: Tower([])\n",
      "tower_c: Tower([1, 2, 3, 4, 5, 6, 7, 8, 9, 10])\n"
     ]
    }
   ],
   "source": [
    "# To implement this function we will use OOP to define a Stack class \n",
    "# which reresents each Tower in the game \n",
    "\n",
    "from typing import TypeVar, Generic, List\n",
    "T = TypeVar('T') # We define an arbitrary type, though we will use integers\n",
    "\n",
    "class Tower(Generic[T]):\n",
    "    \n",
    "    # we initialise the private variable _container to an empty List of type T\n",
    "    def __init__(self, name) -> None:\n",
    "        self._container: List[T] = []\n",
    "        self.name = name\n",
    "\n",
    "    # push includes a disc at the end of the list type T\n",
    "    def push(self, disc: T) -> None:\n",
    "        self._container.append(disc)\n",
    "        \n",
    "    # this defines a method to remove and return the last element from the list T\n",
    "    def pop(self) -> T:\n",
    "        return self._container.pop()\n",
    "        \n",
    "    # this creates a string representation of the object in order to print it out\n",
    "    def __repr__(self) -> str:\n",
    "        return f'{self.__class__.__name__}({repr(self._container)})'\n",
    "                    \n",
    "\n",
    "        \n",
    "# Now we define the function to reorder the discs in the towers recursively\n",
    "def hanoi(begin: Tower[int], end: Tower[int], temp: Tower[int], n: int) -> None:\n",
    "    \"\"\"\n",
    "    Arguments: tower class instances with an int as T type, plus n: number of discs\n",
    "        begin: tower where all discs are at the beginning\n",
    "        end: tower where all discs should end up after execution\n",
    "        temp: tower to allow movement\n",
    "    returns: \n",
    "        The algorithm changes the Tower classes, so there's no need to return something\n",
    "    \"\"\"\n",
    "    \n",
    "    if n == 1:\n",
    "        end.push(begin.pop())        \n",
    "    else:\n",
    "        hanoi(begin, temp, end, n-1)\n",
    "        hanoi(begin, end, temp, 1)\n",
    "        hanoi(temp, end, begin, n-1)\n",
    "        \n",
    "\n",
    "# We define 3 towers to play with and 10 discs\n",
    "num_discs: int = 10\n",
    "tower_a = Tower[int](name = 'tower_a')\n",
    "tower_b = Tower[int](name = 'tower_b')\n",
    "tower_c = Tower[int](name = 'tower_c')\n",
    "for i in range(1, num_discs+1):\n",
    "    tower_a.push(i)\n",
    "        \n",
    "        \n",
    "# Now we execute the function\n",
    "# notice that we can either use:\n",
    "# if __name__ == \"__main__\": # or just use\n",
    "print(f\"Towers before executing alorithm\")\n",
    "print(f\"{tower_a.name}: {tower_a}\")\n",
    "print(f\"{tower_b.name}: {tower_b}\")\n",
    "print(f\"{tower_c.name}: {tower_c}\")\n",
    "\n",
    "\n",
    "print(f\"\\nTowers after executing alorithm\")\n",
    "hanoi(tower_a, tower_c, tower_b, num_discs)\n",
    "print(f\"{tower_a.name}: {tower_a}\")\n",
    "print(f\"{tower_b.name}: {tower_b}\")\n",
    "print(f\"{tower_c.name}: {tower_c}\")"
   ]
  },
  {
   "cell_type": "markdown",
   "id": "04fded2b",
   "metadata": {},
   "source": [
    "**4) Backpack problem:** This is a classical problem where we need to load a limited-capacity backpack with the most number of items, usually trying to maximise the value of the total items as well. The problem is usually restricted by the capacity of the backpack and the size and weight of the items. This is a typical resource allocation problem.\n",
    "The 'brute-force' approach of looking at all possible combinations and selecting the one that maximises the value has $2^n$ combinations, with 'n' being the possible items to put in the backpack (that's $O(2^n)$)."
   ]
  },
  {
   "cell_type": "code",
   "execution_count": 13,
   "id": "81e61b80",
   "metadata": {},
   "outputs": [],
   "source": [
    "# We'll define a class Item that stores a name, a weight and a value\n",
    "from typing import NamedTuple, List\n",
    "\n",
    "class Item(NamedTuple):\n",
    "    name: str\n",
    "    weight: int\n",
    "    value:float\n",
    "\n",
    "items=[]\n",
    "# Now, let's define a list of items, remember we define \"name, weight, value\"\n",
    "items: List[Item] = [\n",
    "    Item(\"TV\", 50, 500),\n",
    "    Item(\"Necklace\", 2, 1000),\n",
    "    Item(\"Laptop\", 3, 1000),\n",
    "    Item(\"Stereo\", 35, 400),\n",
    "    Item(\"Books\", 100, 200),\n",
    "    Item(\"Printer\", 18, 30),\n",
    "    Item(\"Headphones\", 5, 250)\n",
    "]\n",
    "\n",
    "# define function\n",
    "def back_pack_brute(items: List[Item], max_capacity: int = 250) -> List[Item]:\n",
    "    \"\"\"\n",
    "    Arguments:\n",
    "        items: list of items, each one containing 'name', 'weight', 'value'\n",
    "        max_capacity: max weight that backack can hold\n",
    "        \n",
    "    Returns:\n",
    "        optimal-list: combination of items that fit in back pack and hold most value\n",
    "        max_value: maximum value we can fit in backpack given the items available\n",
    "    \n",
    "    Description: Model uses Brute-force approach.Tha is, look at all possible combinations \n",
    "    of items until we reach the backpack's capacity. In this case, we have len(items)! combinations\n",
    "    \n",
    "    \"\"\"\n",
    "    \n",
    "    # defines problem's parameters\n",
    "    Lists = perm_list(items)\n",
    "       \n",
    "    # initialises optimal values\n",
    "    optimal_list = []\n",
    "    max_value = 0\n",
    "\n",
    "    # searches each combination for the option with best combination\n",
    "    for l in Lists:\n",
    "        \n",
    "        # initial conditions for new list combination\n",
    "        capacity = max_capacity\n",
    "        value = 0\n",
    "        list_ = []\n",
    "        \n",
    "        # checks items in list util capacity is full\n",
    "        for item in l:\n",
    "            \n",
    "            # add item untill capacity is full\n",
    "            if item.weight < capacity:\n",
    "                list_.append(item.name)\n",
    "                value += item.value\n",
    "                capacity = capacity - item.weight\n",
    "\n",
    "            else:\n",
    "                # backpack is full... evaluate if value is more than previous combination\n",
    "                if value > max_value:\n",
    "                    optimal_list = list_\n",
    "                    max_value = value\n",
    "                break # exit loop for this list and start evaluating next one\n",
    "                \n",
    "            # we reach this case when the list of items is too short to fill the backpack\n",
    "            if value > max_value:\n",
    "                optimal_list = list_\n",
    "                max_value = value\n",
    "                break # exit loop for this list and start evaluating next one\n",
    "    \n",
    "    return optimal_list, max_value\n",
    "            \n",
    "        \n",
    "        \n",
    "# creates list with all the possible permutations that can be obtained from List 'items'\n",
    "def perm_list(items: List[Item]) -> List[Item]:\n",
    "    \n",
    "    # terminal condition\n",
    "    if len(items) == 0:\n",
    "        return[[]]\n",
    "    \n",
    "    # creates the list with all possible permutations\n",
    "    all_permutations = []\n",
    "    for i in range(len(items)):\n",
    "        current_element = items[i]\n",
    "        remaining_elements = items[:i] + items[i+1:]\n",
    "        \n",
    "        # recursively generates\n",
    "        sub_permutations = perm_list(remaining_elements)\n",
    "        \n",
    "        for perm in sub_permutations:\n",
    "            all_permutations.append([current_element] + perm)\n",
    "            \n",
    "    return all_permutations\n",
    "    "
   ]
  },
  {
   "cell_type": "code",
   "execution_count": 14,
   "id": "2ebc222b",
   "metadata": {},
   "outputs": [
    {
     "name": "stdout",
     "output_type": "stream",
     "text": [
      "We can fit $3380 in the backpack with the following items: ['TV', 'Necklace', 'Laptop', 'Books', 'Stereo', 'Printer', 'Headphones']\n",
      "It took 24.26 ms to calculate.\n"
     ]
    }
   ],
   "source": [
    "import time\n",
    "\n",
    "ini_time = time.time()\n",
    "optimal_list, max_value = back_pack_brute(items=items, max_capacity=250)\n",
    "end_time = time.time()\n",
    "\n",
    "brute_force_time = end_time - ini_time\n",
    "\n",
    "print(f\"We can fit ${max_value} in the backpack with the following items: {optimal_list}\")\n",
    "print(f\"It took {(brute_force_time)*1000:.2f} ms to calculate.\")"
   ]
  },
  {
   "cell_type": "markdown",
   "id": "f14cb73c",
   "metadata": {},
   "source": [
    "Now, let's try an algorithm based in **dynamic programming**, that is, let's break the problem into smaller and overlapping problems, while solving each problem once and storing the solutions."
   ]
  },
  {
   "cell_type": "code",
   "execution_count": 15,
   "id": "b9df8a19",
   "metadata": {},
   "outputs": [],
   "source": [
    "import numpy as np\n",
    "def back_pack_dynamic(items: List[Item], max_capacity: int = 250) -> List[Item]:\n",
    "    \n",
    "    table: List[List[float]] = [[0.0 for _ in range(max_capacity + 1)] for _ in range(len(items) + 1)]\n",
    "        #[[np.zeros(max_capacity+1)] for _ in range(len(items)+1)]\n",
    "    \n",
    "    for i, item in enumerate(items):\n",
    "        for capacity in range(1, max_capacity + 1):\n",
    "            previous_items_value: float = table[i][capacity]\n",
    "            if capacity >= item.weight: # item fits in backpack\n",
    "                value_freeing_weight_for_item: float = table[i][capacity-item.weight]\n",
    "                # only put in backpack if more valuable than previous item\n",
    "                table[i+1][capacity] = max(value_freeing_weight_for_item+item.value, previous_items_value)\n",
    "            else: # no room for item\n",
    "                table[i+1][capacity] = previous_items_value\n",
    "        \n",
    "        solution: List[Item] = []\n",
    "        capacity = max_capacity\n",
    "        \n",
    "        for i in range(len(items), 0, -1): # goes backward\n",
    "            if table[i-1][capacity] != table[i][capacity]:\n",
    "                solution.append(items[i-1])\n",
    "                # if item was used, reduce capacity by its weight\n",
    "                capacity -= items[i-1].weight\n",
    "\n",
    "    value = np.sum([_.value for _ in solution])\n",
    "    items = [item.name for item in solution]\n",
    "    \n",
    "    return items, value\n",
    "                    "
   ]
  },
  {
   "cell_type": "code",
   "execution_count": 16,
   "id": "1d0d6792",
   "metadata": {},
   "outputs": [
    {
     "name": "stdout",
     "output_type": "stream",
     "text": [
      "We can fit $3380 in the backpack with the following items: ['Headphones', 'Printer', 'Books', 'Stereo', 'Laptop', 'Necklace', 'TV']\n",
      "It took 3.61 ms to calculate. 14.87% the time\n"
     ]
    }
   ],
   "source": [
    "import time\n",
    "\n",
    "ini_time = time.time()\n",
    "optimal_list, max_value = back_pack_dynamic(items=items, max_capacity=250)\n",
    "end_time = time.time()\n",
    "\n",
    "dyn_prog_time = end_time - ini_time\n",
    "\n",
    "print(f\"We can fit ${max_value} in the backpack with the following items: {optimal_list}\")\n",
    "print(f\"It took {(dyn_prog_time)*1000:.2f} ms to calculate. {(dyn_prog_time/brute_force_time)*100:.2f}% the time\")"
   ]
  }
 ],
 "metadata": {
  "kernelspec": {
   "display_name": "Python 3 (ipykernel)",
   "language": "python",
   "name": "python3"
  },
  "language_info": {
   "codemirror_mode": {
    "name": "ipython",
    "version": 3
   },
   "file_extension": ".py",
   "mimetype": "text/x-python",
   "name": "python",
   "nbconvert_exporter": "python",
   "pygments_lexer": "ipython3",
   "version": "3.10.8"
  }
 },
 "nbformat": 4,
 "nbformat_minor": 5
}
