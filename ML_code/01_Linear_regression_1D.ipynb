{
 "cells": [
  {
   "cell_type": "markdown",
   "metadata": {},
   "source": [
    "## Linear regression"
   ]
  },
  {
   "cell_type": "markdown",
   "metadata": {},
   "source": [
    "This file contains different implementations of a Linear Regression algorithm.\n",
    "\n",
    "I am using a public data_set from Kaggle in file Linear_regression_data.csv: https://www.kaggle.com/datasets/tanuprabhu/linear-regression-dataset/\n",
    "\n",
    "This data set contains a simple 1-dimension data set with the form: y = mx + b, where m and b are the parameters we need to fit from the data to arrive at a prediction y_hat with the least deviation from y in the data."
   ]
  },
  {
   "cell_type": "markdown",
   "metadata": {},
   "source": [
    "### Theory\n",
    "\n",
    "On its simplest form, the **linear regression algorithm** tries to find the parameters that best fit the equation $\\hat{y} = m*x + b $, where b is normally known as the bias term, m is the slope, x is a 1 dimension  input or independent variable, while $\\hat{y}$ is also a 1 dimension dependent variable or predicted output of the model. \n",
    "\n",
    "The algorithm tries to find values for **m** and **b** that minimise the difference between the predicetd output of the model ($\\hat{y}$) and the actual output value for the input x (y). This difference is normally defined \"error\",\n",
    "\n",
    "Since we have numerous samples (say \"n\" samples), we define this error as:\n",
    "\n",
    "$$ error = \\sum_{i=1}^{n} (y_{i} - \\hat{y}_i) $$\n",
    "\n",
    "Consequently, the goal of the algorithm is to minimise this error, for wich we use some way to avoid problems with the sign of the output values (predicted and labelled), like mean square of the difference so, we minimise the following **_\"cost function\"_**: \n",
    "\n",
    "$$ J(w,b) = \\frac{\\text{1}}{\\text{n}} * \\sum_{i=1}^{n} (y_{i} - \\hat{y}_i)^2 \\quad \\textrm{(1)}$$ \n",
    "\n",
    "Notice that, while the algorithm works without averaging the cost value, it is customary to use the average, and frequent to devide by \"2n\" instead of \"n\" (because it makes the partial derivative end up divided by 'n').\n"
   ]
  },
  {
   "cell_type": "markdown",
   "metadata": {},
   "source": [
    "#### Minimising the Cost Function\n",
    "\n",
    "To minimise the cost function we use the **gradient descent**, that is, we take the partial derivative of the cost function with respect to the parameters *w* and *b*, and then use that direction to modify the paramerts and re-evaluate the cost function.\n",
    "\n",
    "$$ w = w - \\theta * \\frac{\\partial J(w,b)}{\\partial{w}}  \\quad \\textrm{(2)}$$\n",
    "$$ b = b - \\theta * \\frac{\\partial J(w,b)}{\\partial{b}}  \\quad \\textrm{(3)}$$\n",
    "\n",
    "Where $\\theta$ is a small value known as the \"**_learning rate_**\".\n",
    "\n",
    "With these small changes of the parameters in the direction that reduces the value of the cost function J(w,b), we iterate until we are satisfied with the value of the error. \n",
    "\n",
    "Normally we use 2 criteria to stop iterating:\n",
    "- we define a number of iterations and stop when we reach it (ex: 1000)\n",
    "- we define a small enough value and stop iterating when the change in the cost function is smaller than that value after an iteration."
   ]
  },
  {
   "cell_type": "markdown",
   "metadata": {},
   "source": [
    "For a simple one-dimensional linear equation, we have:\n",
    "\n",
    "$$ f_{(w,b)}(X) = \\hat{Y} = w*X + b $$\n",
    "\n",
    "and the partial derivatives are:\n",
    "\n",
    "$$ \\frac{\\partial{J(w,b)}}{\\partial {w}} = \\frac{\\text{1}}{\\text{n}} * \\sum_{i=1}^{n} (w*x_{i} - {y}_i)*x_{i} \\quad \\textrm{(4)}$$ \n",
    "\n",
    "$$ \\frac{\\partial{J(w,b)}}{\\partial {b}} = \\frac{\\text{1}}{\\text{n}} * \\sum_{i=1}^{n} (w*x_{i} - {y}_i) \\quad \\textrm{(5)}$$"
   ]
  },
  {
   "cell_type": "markdown",
   "metadata": {},
   "source": [
    "### Example:\n",
    "\n",
    "Let's start by importing some of the libraries we'll use:"
   ]
  },
  {
   "cell_type": "code",
   "execution_count": 3,
   "metadata": {},
   "outputs": [],
   "source": [
    "import numpy as np\n",
    "import csv\n",
    "import random\n",
    "import copy\n",
    "import math"
   ]
  },
  {
   "cell_type": "markdown",
   "metadata": {},
   "source": [
    "First, let's load the data on two variables: X for the independent variables and Y for the dependent variable:"
   ]
  },
  {
   "cell_type": "code",
   "execution_count": 4,
   "metadata": {},
   "outputs": [],
   "source": [
    "# define the file with input data\n",
    "file_path = \"data/Linear_Regression_data.csv\"\n",
    " \n",
    "# load data\n",
    "try: \n",
    "    with open(file_path, 'r') as file:\n",
    "                # Create a CSV reader object\n",
    "                reader = csv.DictReader(file)\n",
    "                \n",
    "                # Initialise an empty lists to store the data\n",
    "                X = []\n",
    "                Y = []\n",
    "    \n",
    "                # Iterate over each row in the CSV file\n",
    "                for row in reader:\n",
    "                    # Append the row as a dictionary to the data list\n",
    "                    X.append(int(row[\"X\"]))\n",
    "                    Y.append(float(row[\"Y\"]))\n",
    "\n",
    "except:\n",
    "     print(f\"Error opening file\")\n",
    "\n",
    "assert len(X) == len(Y)"
   ]
  },
  {
   "cell_type": "markdown",
   "metadata": {},
   "source": [
    "To begin, let's look at the data. This task is particularly simple with this exercise since we have a 1-dimension vector as input and a 1-D vector as output, which makes it easy to plot.\n",
    "\n",
    "If we had many dimensions in either the input or output, we would have to use some other techniques to have an initial perception of the data (ex: PCA or others)."
   ]
  },
  {
   "cell_type": "code",
   "execution_count": 5,
   "metadata": {},
   "outputs": [
    {
     "name": "stdout",
     "output_type": "stream",
     "text": [
      "Dimension of input X: 300\n",
      "Dimension of output Y: 300\n",
      "First 10 values for X: [1, 2, 3, 4, 5, 6, 7, 8, 9, 10]\n",
      "First 10 values for X: [3.888888889, 4.555555556, 5.222222222, 5.888888889, 6.555555556, 7.222222222, 7.888888889, 8.555555556, 9.222222222, 9.888888889]\n"
     ]
    }
   ],
   "source": [
    "# First, let's look at the size of the vectors.\n",
    "# We defined them as lists, so we can't use shape attribute of arrays:\n",
    "print(f\"Dimension of input X: {len(X)}\")\n",
    "print(f\"Dimension of output Y: {len(Y)}\")\n",
    "\n",
    "print(f\"First 10 values for X: {X[0:10]}\")\n",
    "print(f\"First 10 values for X: {Y[0:10]}\")"
   ]
  },
  {
   "cell_type": "code",
   "execution_count": 6,
   "metadata": {},
   "outputs": [
    {
     "data": {
      "text/plain": [
       "Text(0, 0.5, 'Output: Y')"
      ]
     },
     "execution_count": 6,
     "metadata": {},
     "output_type": "execute_result"
    },
    {
     "data": {
      "image/png": "[encoded data removed]",
      "text/plain": [
       "<Figure size 640x480 with 1 Axes>"
      ]
     },
     "metadata": {},
     "output_type": "display_data"
    }
   ],
   "source": [
    "# Now, let's plot the data. We will use matplotlib:\n",
    "import matplotlib.pyplot as plt\n",
    "\n",
    "plt.scatter(X, Y, color=\"blue\")\n",
    "\n",
    "plt.xlabel(\"Input: X\")\n",
    "plt.ylabel(\"Output: Y\")"
   ]
  },
  {
   "cell_type": "markdown",
   "metadata": {},
   "source": [
    "Looking at the plot, we find at least 2 things:\n",
    "\n",
    "- The relationship between input and output is very linear. We should expect a high accuracy in the prediction once we find the parameters for the underlying equation\n",
    "- There're strange outliers at the end of the sample"
   ]
  },
  {
   "cell_type": "code",
   "execution_count": 7,
   "metadata": {},
   "outputs": [
    {
     "data": {
      "text/plain": [
       "[200.5555556, 201.2222222, 201.8888889, 1.888888889, 1.888888889]"
      ]
     },
     "execution_count": 7,
     "metadata": {},
     "output_type": "execute_result"
    }
   ],
   "source": [
    "# Looking that the last 5 values on the output, we have:\n",
    "\n",
    "Y[-5:]"
   ]
  },
  {
   "cell_type": "markdown",
   "metadata": {},
   "source": [
    "There's clearly an anomaly with last the values of the output.\n",
    "\n",
    "Normally we should evaluate if the values originate in measurement problems, faulty equipment, etc. If the values do not represent the normal behaviour of the output/dependent variable, it might be best to exclude them from the sample. Notice that this decision is best taken in coordination with field experts.\n",
    "\n",
    "For this exercise, we will keep them."
   ]
  },
  {
   "cell_type": "markdown",
   "metadata": {},
   "source": [
    "Now, we need to separate the data set into **training and testing sets**. Notice that it is customary to use also a cross validation set to fine-tune the algorithm; we won't use this set here since neither the data nor the algorithm is  overly complex.\n",
    "\n",
    "Normally we would use libraries to randomly separate the data sets (sklearn has a very efficient one) but, for this exercise, we will use a more manual approach to demonstrate the use of the algorithm."
   ]
  },
  {
   "cell_type": "code",
   "execution_count": 8,
   "metadata": {},
   "outputs": [
    {
     "name": "stdout",
     "output_type": "stream",
     "text": [
      "Size Train set= 225\n",
      "Size Test set= 75\n"
     ]
    }
   ],
   "source": [
    "# let's define the number of samples in the data and \n",
    "# the size of the training set (we'll use 25%)\n",
    "n = len(X)\n",
    "sz_train = int(n*0.75)\n",
    "\n",
    "# Now, we'll create a random list to separate the data sets\n",
    "i = [j for j in range(n)]\n",
    "random.shuffle(i)\n",
    "\n",
    "# and then use the randomised list to separate the data set\n",
    "X_train = [X[j] for j in i[0:sz_train]]\n",
    "Y_train = [Y[j] for j in i[0:sz_train]]\n",
    "\n",
    "X_test = [X[j] for j in i[sz_train:]]\n",
    "Y_test = [Y[j] for j in i[sz_train:]]\n",
    "\n",
    "assert len(Y_train) + len(Y_test) == len(X)\n",
    "\n",
    "print(f\"Size Train set= {len(Y_train)}\\nSize Test set= {len(Y_test)}\")"
   ]
  },
  {
   "cell_type": "markdown",
   "metadata": {},
   "source": [
    "Now, to implement the algorithm we will use the following functions:\n",
    "\n",
    "- cost_function(): determines the value of the cost function for a given input sample X, parameters w and b, and actual output y.\n",
    "- gradient(): determines the values for the partial derivatives dj/dw and dj/db\n",
    "- fit(): determines the optimal values for the parameters "
   ]
  },
  {
   "cell_type": "code",
   "execution_count": 9,
   "metadata": {},
   "outputs": [],
   "source": [
    "# Cost function\n",
    "\"\"\" \n",
    "Notice that we can calculate this function with loops or with vectors, \n",
    "the latter being more efficient.\n",
    "\"\"\"\n",
    "\n",
    "# implemented with for-loop\n",
    "def cost_function(X,w,b,Y):\n",
    "\n",
    "    m = len(X) # sample size\n",
    "\n",
    "    cost = 0\n",
    "    for i in range(len(Y)):\n",
    "        cost += np.power(X[i]*w + b - Y[i], 2)\n",
    "\n",
    "    cost = cost/m\n",
    "\n",
    "    return cost\n",
    "\n",
    "# implemented with vectors\n",
    "def cost_function_vect(X,w,b,Y):\n",
    "\n",
    "    m = len(X) # sample size\n",
    "    \n",
    "    # transforming lists into vectors\n",
    "    X = np.array(X)\n",
    "    Y = np.array(Y)\n",
    "\n",
    "    Y_hat = X*w + b\n",
    "\n",
    "    cost = np.sum(np.power(Y_hat-Y,2)) / m\n",
    "\n",
    "    return cost\n"
   ]
  },
  {
   "cell_type": "code",
   "execution_count": 10,
   "metadata": {},
   "outputs": [
    {
     "name": "stdout",
     "output_type": "stream",
     "text": [
      "Time for for-loop: 0.00042319297790527344 ms\n",
      "Time for vectorised calc: 0.00016355514526367188 ms\n",
      "\n",
      "Vector calculation is 61.35% more efficient for the train set.\n"
     ]
    }
   ],
   "source": [
    "import time\n",
    "\n",
    "# Review for-loop efficiency\n",
    "ini_time = time.time()\n",
    "error = cost_function(X_train, 0.03, 0.005, Y_train)\n",
    "#print(error)\n",
    "end_time = time.time()\n",
    "forloop_time = end_time - ini_time\n",
    "print(f\"Time for for-loop: {forloop_time} ms\")\n",
    "\n",
    "# Review vectorised calculation efficiency\n",
    "ini_time = time.time()\n",
    "error = cost_function_vect(X_train, 0.03, 0.005, Y_train)\n",
    "#print(error)\n",
    "end_time = time.time()\n",
    "vector_time = end_time - ini_time\n",
    "print(f\"Time for vectorised calc: {vector_time} ms\")\n",
    "\n",
    "print(f\"\\nVector calculation is {(1-vector_time/forloop_time)*100:.2f}% more efficient for the train set.\")"
   ]
  },
  {
   "cell_type": "markdown",
   "metadata": {},
   "source": [
    "Now we'll code the partial derivatives (gradient) with the equations (4) and (5):\n",
    "\n",
    "$$ \\frac{\\partial{J(w,b)}}{\\partial {w}} = \\frac{\\text{1}}{\\text{n}} * \\sum_{i=1}^{n} (w*x_{i} - {y}_i)*x_{i} \\quad \\textrm{(4)}$$ \n",
    "\n",
    "$$ \\frac{\\partial{J(w,b)}}{\\partial {b}} = \\frac{\\text{1}}{\\text{n}} * \\sum_{i=1}^{n} (w*x_{i} - {y}_i) \\quad \\textrm{(5)}$$"
   ]
  },
  {
   "cell_type": "code",
   "execution_count": 11,
   "metadata": {},
   "outputs": [],
   "source": [
    "# This function calculates the partial derivatives, considering that w and b are scalar values\n",
    "def gradient(X,Y,w,b):\n",
    "    \n",
    "    X = np.array(X)\n",
    "    Y = np.array(Y)\n",
    "    \n",
    "    n = len(X) # sample size\n",
    "\n",
    "    #initialising the values\n",
    "    dj_dw, dj_db = 0,0\n",
    "\n",
    "    # vector calculation\n",
    "    dj_dw = np.dot(X*w - Y,X) / n\n",
    "    dj_db = np.sum(X*w - Y) / n\n",
    "\n",
    "\n",
    "    return dj_dw, dj_db"
   ]
  },
  {
   "cell_type": "markdown",
   "metadata": {},
   "source": [
    "Now we'll code the fit function that will optimise the value of the parameters w and b. We will use the vector calculation form for the cost function. \n",
    "\n",
    "We will use the following default values:\n",
    "- w, b = 0\n",
    "- theta = 0.001 (learning rate)\n",
    "- number of iterations= 1,000 \n",
    "\n",
    "Finally, we will include the values of the cost function as we iterate."
   ]
  },
  {
   "cell_type": "code",
   "execution_count": 12,
   "metadata": {},
   "outputs": [],
   "source": [
    "def fit_linear(X, Y, w_ini = 0, b_ini = 0, cost_function_vect=cost_function_vect, gradient=gradient, theta=0.001, num_iter = 1000):\n",
    "\n",
    "    # set initial values\n",
    "    J_values = []\n",
    "    w = copy.deepcopy(w_ini)\n",
    "    b = b_ini\n",
    "\n",
    "    # iterations\n",
    "    for i in range(num_iter):\n",
    "\n",
    "        # calculate gradients according to eqs (4) and (5)\n",
    "        dj_dw, dj_db = gradient(X,Y,w,b)\n",
    "\n",
    "        # updating parameter values according to eqs (2) and (3)\n",
    "        w = w - theta * dj_dw\n",
    "        b = b - theta * dj_db\n",
    "\n",
    "        # store cost function values\n",
    "        J_values.append(cost_function_vect(X,w,b,Y))\n",
    "\n",
    "        # print out values to evaluate convergence\n",
    "        if i < 100000: # to limit the \n",
    "        \n",
    "            if i% math.ceil(num_iter/10) == 0:\n",
    "                print(f\"Iteration {i:4d}: Cost value {J_values[-1]:6.2f} \")\n",
    "                #print(f\"w: {w} b:{b}\")\n",
    "\n",
    "    return w, b, J_values\n"
   ]
  },
  {
   "cell_type": "markdown",
   "metadata": {},
   "source": [
    "Now, let's execute the functions to get the values:"
   ]
  },
  {
   "cell_type": "code",
   "execution_count": 13,
   "metadata": {},
   "outputs": [
    {
     "name": "stdout",
     "output_type": "stream",
     "text": [
      "Iteration    0: Cost value 6871.39 \n",
      "Iteration  100: Cost value 357.90 \n",
      "Iteration  200: Cost value 357.90 \n",
      "Iteration  300: Cost value 357.89 \n",
      "Iteration  400: Cost value 357.89 \n",
      "Iteration  500: Cost value 357.88 \n",
      "Iteration  600: Cost value 357.88 \n",
      "Iteration  700: Cost value 357.87 \n",
      "Iteration  800: Cost value 357.87 \n",
      "Iteration  900: Cost value 357.86 \n"
     ]
    }
   ],
   "source": [
    "# Notice that we need to try different values for the learning reate, \n",
    "# starting with very small ones to avoid \"bounding around\" the optimum\n",
    "\n",
    "theta = 0.00001\n",
    "time_ini_self_coding = time.time()\n",
    "w_opt, b_opt, J_values = fit_linear(X_train, Y_train, w_ini=0, b_ini=0, theta = theta, num_iter=1000)\n",
    "time_end_self_coding = time.time()\n"
   ]
  },
  {
   "cell_type": "code",
   "execution_count": 14,
   "metadata": {},
   "outputs": [],
   "source": [
    "# Now, let's create a function to calculate predictive values \n",
    "def projection(X, w, b):\n",
    "\n",
    "    X = np.array(X)\n",
    "    Y_hat = X*w + b\n",
    "\n",
    "    return Y_hat"
   ]
  },
  {
   "cell_type": "code",
   "execution_count": 15,
   "metadata": {},
   "outputs": [],
   "source": [
    "# And now, let's evaluate the accuracy of the prediction for the training set\n",
    "Y_hat_train = projection(X_train, w_opt, b_opt)\n",
    "\n",
    "Y_hat_test = projection(X_test, w_opt, b_opt)"
   ]
  },
  {
   "cell_type": "markdown",
   "metadata": {},
   "source": [
    "Now, let's plot the data and the function achieved with logistic regression:"
   ]
  },
  {
   "cell_type": "code",
   "execution_count": 16,
   "metadata": {},
   "outputs": [
    {
     "data": {
      "text/plain": [
       "<matplotlib.legend.Legend at 0x7ff89e8fd210>"
      ]
     },
     "execution_count": 16,
     "metadata": {},
     "output_type": "execute_result"
    },
    {
     "data": {
      "image/png": "[encoded data removed]",
      "text/plain": [
       "<Figure size 640x480 with 1 Axes>"
      ]
     },
     "metadata": {},
     "output_type": "display_data"
    }
   ],
   "source": [
    "import matplotlib.pyplot as plt\n",
    "\n",
    "plt.scatter(X_train, Y_train, color=\"blue\")\n",
    "plt.scatter(X_train, Y_hat_train, color=\"red\")\n",
    "\n",
    "plt.xlabel(\"Input: X\")\n",
    "plt.ylabel(\"Output: Y\")\n",
    "plt.legend([\"Actual output\", \"Predicted output\"])\n"
   ]
  },
  {
   "cell_type": "markdown",
   "metadata": {},
   "source": [
    "As expected, we have a very good match between the prediction and the actual data. We can evaluate this match with the r2-score as shown here:"
   ]
  },
  {
   "cell_type": "code",
   "execution_count": 17,
   "metadata": {},
   "outputs": [
    {
     "name": "stdout",
     "output_type": "stream",
     "text": [
      "The accuracy of the model on train set is 88.92%\n",
      "The accuracy of the model on test set is 99.68%\n"
     ]
    }
   ],
   "source": [
    "from sklearn.metrics import r2_score\n",
    "\n",
    "# Train set\n",
    "score = r2_score(Y_train, Y_hat_train)\n",
    "print(\"The accuracy of the model on train set is {}%\".format(round(score, 4) *100))\n",
    "\n",
    "# Test set\n",
    "score_test = r2_score(Y_test, Y_hat_test)\n",
    "print(\"The accuracy of the model on test set is {}%\".format(round(score_test, 4) *100))\n"
   ]
  },
  {
   "cell_type": "markdown",
   "metadata": {},
   "source": [
    "#### SKLearn linear regression\n",
    "\n",
    "Now let's use the algorithm from the sklearn library and compare the results. \n",
    "\n",
    "Notice that, to use Sklearn, we need to transform the lists to numpy arrays and reshape them."
   ]
  },
  {
   "cell_type": "code",
   "execution_count": 18,
   "metadata": {},
   "outputs": [
    {
     "name": "stdout",
     "output_type": "stream",
     "text": [
      "SkLearn coefficients: [[0.63033125]]\n"
     ]
    }
   ],
   "source": [
    "from sklearn.linear_model import LinearRegression\n",
    "\n",
    "# First, we need to format the lists as numpy arrays to work with sklearn\n",
    "X_train_array = np.array(X_train)\n",
    "Y_train_array = np.array(Y_train)\n",
    "X_test_array = np.array(X_test)\n",
    "\n",
    "# Now, we need to reshape the arrays to form matrices\n",
    "X_train_array = X_train_array.reshape(-1,1)\n",
    "Y_train_array = Y_train_array.reshape(-1,1)\n",
    "X_test_array = X_test_array.reshape(-1,1)\n",
    "\n",
    "# Now, let's fit the model\n",
    "time_ini_sklearn = time.time()\n",
    "reg = LinearRegression().fit(X_train_array, Y_train_array)\n",
    "time_end_sklearn = time.time()\n",
    "\n",
    "print(f\"SkLearn coefficients: {reg.coef_}\")\n",
    "\n",
    "y_hat_train_sk = reg.predict(X_train_array)\n",
    "y_hat_test_sk = reg.predict(X_test_array)"
   ]
  },
  {
   "cell_type": "markdown",
   "metadata": {},
   "source": [
    "Now, let's evaluate the performance:"
   ]
  },
  {
   "cell_type": "code",
   "execution_count": 19,
   "metadata": {},
   "outputs": [
    {
     "name": "stdout",
     "output_type": "stream",
     "text": [
      "The accuracy of the model on train set is 89.28%\n",
      "The accuracy of the model on test set is 99.63%\n",
      "Sklearn calculation is 3.94% more efficient for the train set.\n"
     ]
    }
   ],
   "source": [
    "from sklearn.metrics import r2_score\n",
    "\n",
    "# Train set\n",
    "score = r2_score(Y_train, y_hat_train_sk)\n",
    "print(f\"The accuracy of the model on train set is {score*100:.2f}%\")\n",
    "\n",
    "# Test set\n",
    "score_test = r2_score(Y_test, y_hat_test_sk)\n",
    "print(f\"The accuracy of the model on test set is {score_test*100:.2f}%\")\n",
    "\n",
    "# Time calculation comparison\n",
    "self_fit_time = time_end_self_coding - time_ini_self_coding\n",
    "sklearn_fit_time = time_end_sklearn - time_ini_sklearn\n",
    "\n",
    "# The calculation time is \n",
    "print(f\"Sklearn calculation is {(1-sklearn_fit_time/self_fit_time)*100:.2f}% more efficient for the train set.\")"
   ]
  }
 ],
 "metadata": {
  "kernelspec": {
   "display_name": "Python 3",
   "language": "python",
   "name": "python3"
  },
  "language_info": {
   "codemirror_mode": {
    "name": "ipython",
    "version": 3
   },
   "file_extension": ".py",
   "mimetype": "text/x-python",
   "name": "python",
   "nbconvert_exporter": "python",
   "pygments_lexer": "ipython3",
   "version": "3.10.8"
  }
 },
 "nbformat": 4,
 "nbformat_minor": 2
}
